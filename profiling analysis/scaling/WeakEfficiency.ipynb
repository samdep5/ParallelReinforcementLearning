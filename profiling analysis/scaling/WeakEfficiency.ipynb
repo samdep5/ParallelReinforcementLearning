{
 "cells": [
  {
   "cell_type": "code",
   "execution_count": 1,
   "id": "0e2cc09b",
   "metadata": {},
   "outputs": [],
   "source": [
    "import numpy as np\n",
    "import pandas as pd"
   ]
  },
  {
   "cell_type": "code",
   "execution_count": 2,
   "id": "ba6868ff",
   "metadata": {},
   "outputs": [
    {
     "name": "stderr",
     "output_type": "stream",
     "text": [
      "Matplotlib is building the font cache; this may take a moment.\n"
     ]
    }
   ],
   "source": [
    "%matplotlib inline\n",
    "import matplotlib.pyplot as plt\n",
    "plt.style.use('seaborn-whitegrid')"
   ]
  },
  {
   "cell_type": "markdown",
   "id": "9723f56b",
   "metadata": {},
   "source": [
    "## Efficiency plots"
   ]
  },
  {
   "cell_type": "code",
   "execution_count": 3,
   "id": "ac56ec6b",
   "metadata": {},
   "outputs": [
    {
     "name": "stdout",
     "output_type": "stream",
     "text": [
      "36.0\n"
     ]
    }
   ],
   "source": [
    "def overhead(t_s, e_p):\n",
    "  return t_s*((1/e_p)-1)\n",
    "\n",
    "print(overhead(144, 0.8))"
   ]
  },
  {
   "cell_type": "code",
   "execution_count": 4,
   "id": "a0078202",
   "metadata": {},
   "outputs": [
    {
     "data": {
      "text/html": [
       "<div>\n",
       "<style scoped>\n",
       "    .dataframe tbody tr th:only-of-type {\n",
       "        vertical-align: middle;\n",
       "    }\n",
       "\n",
       "    .dataframe tbody tr th {\n",
       "        vertical-align: top;\n",
       "    }\n",
       "\n",
       "    .dataframe thead th {\n",
       "        text-align: right;\n",
       "    }\n",
       "</style>\n",
       "<table border=\"1\" class=\"dataframe\">\n",
       "  <thead>\n",
       "    <tr style=\"text-align: right;\">\n",
       "      <th></th>\n",
       "      <th>p</th>\n",
       "      <th>t_s</th>\n",
       "      <th>t_p</th>\n",
       "      <th>E_p</th>\n",
       "      <th>t_o</th>\n",
       "      <th>Algorithm</th>\n",
       "    </tr>\n",
       "  </thead>\n",
       "  <tbody>\n",
       "    <tr>\n",
       "      <th>0</th>\n",
       "      <td>1</td>\n",
       "      <td>144.867</td>\n",
       "      <td>144.867</td>\n",
       "      <td>1.000000</td>\n",
       "      <td>0.000</td>\n",
       "      <td>OpenMP</td>\n",
       "    </tr>\n",
       "    <tr>\n",
       "      <th>1</th>\n",
       "      <td>2</td>\n",
       "      <td>144.867</td>\n",
       "      <td>147.441</td>\n",
       "      <td>0.982542</td>\n",
       "      <td>2.574</td>\n",
       "      <td>OpenMP</td>\n",
       "    </tr>\n",
       "    <tr>\n",
       "      <th>2</th>\n",
       "      <td>4</td>\n",
       "      <td>144.867</td>\n",
       "      <td>150.526</td>\n",
       "      <td>0.962405</td>\n",
       "      <td>5.659</td>\n",
       "      <td>OpenMP</td>\n",
       "    </tr>\n",
       "    <tr>\n",
       "      <th>3</th>\n",
       "      <td>8</td>\n",
       "      <td>144.867</td>\n",
       "      <td>164.496</td>\n",
       "      <td>0.880672</td>\n",
       "      <td>19.629</td>\n",
       "      <td>OpenMP</td>\n",
       "    </tr>\n",
       "    <tr>\n",
       "      <th>4</th>\n",
       "      <td>16</td>\n",
       "      <td>144.867</td>\n",
       "      <td>185.358</td>\n",
       "      <td>0.781552</td>\n",
       "      <td>40.491</td>\n",
       "      <td>OpenMP</td>\n",
       "    </tr>\n",
       "    <tr>\n",
       "      <th>5</th>\n",
       "      <td>32</td>\n",
       "      <td>144.867</td>\n",
       "      <td>186.725</td>\n",
       "      <td>0.775831</td>\n",
       "      <td>41.858</td>\n",
       "      <td>OpenMP</td>\n",
       "    </tr>\n",
       "    <tr>\n",
       "      <th>0</th>\n",
       "      <td>1</td>\n",
       "      <td>144.188</td>\n",
       "      <td>144.188</td>\n",
       "      <td>1.000000</td>\n",
       "      <td>0.000</td>\n",
       "      <td>MPI</td>\n",
       "    </tr>\n",
       "    <tr>\n",
       "      <th>1</th>\n",
       "      <td>2</td>\n",
       "      <td>144.188</td>\n",
       "      <td>144.736</td>\n",
       "      <td>0.996214</td>\n",
       "      <td>0.548</td>\n",
       "      <td>MPI</td>\n",
       "    </tr>\n",
       "    <tr>\n",
       "      <th>2</th>\n",
       "      <td>4</td>\n",
       "      <td>144.188</td>\n",
       "      <td>149.277</td>\n",
       "      <td>0.965909</td>\n",
       "      <td>5.089</td>\n",
       "      <td>MPI</td>\n",
       "    </tr>\n",
       "    <tr>\n",
       "      <th>3</th>\n",
       "      <td>8</td>\n",
       "      <td>144.188</td>\n",
       "      <td>164.893</td>\n",
       "      <td>0.874434</td>\n",
       "      <td>20.705</td>\n",
       "      <td>MPI</td>\n",
       "    </tr>\n",
       "    <tr>\n",
       "      <th>4</th>\n",
       "      <td>16</td>\n",
       "      <td>144.188</td>\n",
       "      <td>166.752</td>\n",
       "      <td>0.864685</td>\n",
       "      <td>22.564</td>\n",
       "      <td>MPI</td>\n",
       "    </tr>\n",
       "    <tr>\n",
       "      <th>5</th>\n",
       "      <td>32</td>\n",
       "      <td>144.188</td>\n",
       "      <td>169.727</td>\n",
       "      <td>0.849529</td>\n",
       "      <td>25.539</td>\n",
       "      <td>MPI</td>\n",
       "    </tr>\n",
       "  </tbody>\n",
       "</table>\n",
       "</div>"
      ],
      "text/plain": [
       "    p      t_s      t_p       E_p     t_o Algorithm\n",
       "0   1  144.867  144.867  1.000000   0.000    OpenMP\n",
       "1   2  144.867  147.441  0.982542   2.574    OpenMP\n",
       "2   4  144.867  150.526  0.962405   5.659    OpenMP\n",
       "3   8  144.867  164.496  0.880672  19.629    OpenMP\n",
       "4  16  144.867  185.358  0.781552  40.491    OpenMP\n",
       "5  32  144.867  186.725  0.775831  41.858    OpenMP\n",
       "0   1  144.188  144.188  1.000000   0.000       MPI\n",
       "1   2  144.188  144.736  0.996214   0.548       MPI\n",
       "2   4  144.188  149.277  0.965909   5.089       MPI\n",
       "3   8  144.188  164.893  0.874434  20.705       MPI\n",
       "4  16  144.188  166.752  0.864685  22.564       MPI\n",
       "5  32  144.188  169.727  0.849529  25.539       MPI"
      ]
     },
     "execution_count": 4,
     "metadata": {},
     "output_type": "execute_result"
    }
   ],
   "source": [
    "openmp = pd.DataFrame({'p': [1, 2, 4, 8, 16, 32],\n",
    "                   't_s': [144.867, 144.867, 144.867, 144.867, 144.867,144.867],\n",
    "                   't_p': [144.867, 147.441, 150.526, 164.496, 185.358,186.725]\n",
    "                  })\n",
    "\n",
    "openmp['E_p'] = openmp['t_s']/openmp['t_p']\n",
    "openmp['t_o'] = overhead(openmp['t_s'],openmp['E_p'])\n",
    "\n",
    "openmp['Algorithm'] = 'OpenMP'\n",
    "\n",
    "hybrid = pd.DataFrame({'p': [1, 2, 4, 8, 16, 32],\n",
    "                   't_s': [144.188, 144.188, 144.188, 144.188, 144.188,144.188],\n",
    "                   't_p': [144.188, 144.736, 149.277, 164.893, 166.752,169.727]\n",
    "                  })\n",
    "\n",
    "hybrid['E_p'] = hybrid['t_s']/hybrid['t_p']\n",
    "hybrid['t_o'] = overhead(hybrid['t_s'],hybrid['E_p'])\n",
    "\n",
    "hybrid['Algorithm'] = 'MPI'\n",
    "\n",
    "hybrid\n",
    "\n",
    "df = openmp.append(hybrid)\n",
    "df"
   ]
  },
  {
   "cell_type": "code",
   "execution_count": 5,
   "id": "666c8ca6",
   "metadata": {},
   "outputs": [
    {
     "data": {
      "image/png": "[encoded data removed]",
      "text/plain": [
       "<Figure size 432x288 with 1 Axes>"
      ]
     },
     "metadata": {},
     "output_type": "display_data"
    }
   ],
   "source": [
    "#define index column\n",
    "new_style = {'grid': False}\n",
    "plt.rc('axes', **new_style)\n",
    "df.set_index('p', inplace=True)\n",
    "\n",
    "#group data by product and display sales as line chart\n",
    "df.groupby('Algorithm')['E_p'].plot(style='-',legend=True)\n",
    "\n",
    "plt.xlabel('Number of parallel processors')\n",
    "plt.ylabel('Weak efficiency')\n",
    "plt.savefig('WeakEfficiency.svg', dpi = 2000)"
   ]
  }
 ],
 "metadata": {
  "kernelspec": {
   "display_name": "Python 3 (ipykernel)",
   "language": "python",
   "name": "python3"
  },
  "language_info": {
   "codemirror_mode": {
    "name": "ipython",
    "version": 3
   },
   "file_extension": ".py",
   "mimetype": "text/x-python",
   "name": "python",
   "nbconvert_exporter": "python",
   "pygments_lexer": "ipython3",
   "version": "3.9.7"
  }
 },
 "nbformat": 4,
 "nbformat_minor": 5
}
